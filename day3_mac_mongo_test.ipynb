{
 "cells": [
  {
   "cell_type": "code",
   "execution_count": 1,
   "metadata": {},
   "outputs": [
    {
     "data": {
      "text/plain": [
       "'2.4.5'"
      ]
     },
     "execution_count": 1,
     "metadata": {},
     "output_type": "execute_result"
    }
   ],
   "source": [
    "from pyspark.sql import SparkSession\n",
    "import pandas as pd\n",
    "\n",
    "spark = SparkSession.builder.master(\"local[*]\") \\\n",
    "    .enableHiveSupport().appName(\"ex01_1\") \\\n",
    "    .getOrCreate()\n",
    "\n",
    "spark.version   # 2.4.5"
   ]
  },
  {
   "cell_type": "code",
   "execution_count": 2,
   "metadata": {},
   "outputs": [
    {
     "name": "stdout",
     "output_type": "stream",
     "text": [
      "+--------------------+----+----+----+----------------+---+---+---------+\n",
      "|                 _id|city|mode|rnSt|            tmEf|tmn|tmx|       wf|\n",
      "+--------------------+----+----+----+----------------+---+---+---------+\n",
      "|[5f2a87f82aa1d515...|서울| A02|  90|2020-08-08 00:00| 23| 27|흐리고 비|\n",
      "|[5f2a87f82aa1d515...|서울| A02|  90|2020-08-08 12:00| 23| 27|흐리고 비|\n",
      "|[5f2a87f82aa1d515...|서울| A02| 100|2020-08-09 00:00| 24| 28|흐리고 비|\n",
      "|[5f2a87f82aa1d515...|서울| A02|  90|2020-08-09 12:00| 24| 28|흐리고 비|\n",
      "|[5f2a87f82aa1d515...|서울| A02| 100|2020-08-10 00:00| 24| 28|흐리고 비|\n",
      "|[5f2a87f82aa1d515...|서울| A02| 100|2020-08-10 12:00| 24| 28|흐리고 비|\n",
      "|[5f2a87f82aa1d515...|서울| A02|  90|2020-08-11 00:00| 24| 29|흐리고 비|\n",
      "|[5f2a87f82aa1d515...|서울| A02| 100|2020-08-11 12:00| 24| 29|흐리고 비|\n",
      "|[5f2a87f82aa1d515...|서울| A02|  80|2020-08-12 00:00| 24| 30|흐리고 비|\n",
      "|[5f2a87f82aa1d515...|서울| A02|  80|2020-08-12 12:00| 24| 30|흐리고 비|\n",
      "|[5f2a87f82aa1d515...|서울| A01|  90|2020-08-13 00:00| 24| 30|흐리고 비|\n",
      "|[5f2a87f82aa1d515...|서울| A01| 100|2020-08-14 00:00| 24| 30|흐리고 비|\n",
      "|[5f2a87f82aa1d515...|서울| A01|  40|2020-08-15 00:00| 24| 30|     흐림|\n",
      "|[5f2a87f82aa1d515...|인천| A02|  90|2020-08-08 00:00| 23| 26|흐리고 비|\n",
      "|[5f2a87f82aa1d515...|인천| A02|  90|2020-08-08 12:00| 23| 26|흐리고 비|\n",
      "|[5f2a87f82aa1d515...|인천| A02| 100|2020-08-09 00:00| 23| 27|흐리고 비|\n",
      "|[5f2a87f82aa1d515...|인천| A02|  90|2020-08-09 12:00| 23| 27|흐리고 비|\n",
      "|[5f2a87f82aa1d515...|인천| A02| 100|2020-08-10 00:00| 24| 27|흐리고 비|\n",
      "|[5f2a87f82aa1d515...|인천| A02| 100|2020-08-10 12:00| 24| 27|흐리고 비|\n",
      "|[5f2a87f82aa1d515...|인천| A02|  90|2020-08-11 00:00| 24| 27|흐리고 비|\n",
      "+--------------------+----+----+----+----------------+---+---+---------+\n",
      "only showing top 20 rows\n",
      "\n"
     ]
    }
   ],
   "source": [
    "spark = SparkSession.builder.master(\"local[*]\").appName(\"myApp\") \\\n",
    "    .enableHiveSupport().appName(\"hive01\") \\\n",
    "    .config(\"spark.mongodb.input.uri\", \"mongodb://192.168.99.100:32888/db1.t01\") \\\n",
    "    .config('spark.jars.packages', 'org.mongodb.spark:mongo-spark-connector_2.11:2.4.1') \\\n",
    "    .getOrCreate()\n",
    "\n",
    "# mongodb에서 읽기\n",
    "df = spark.read.format(\"com.mongodb.spark.sql.DefaultSource\").load()\n",
    "df.show()"
   ]
  }
 ],
 "metadata": {
  "kernelspec": {
   "display_name": "Python 3",
   "language": "python",
   "name": "python3"
  },
  "language_info": {
   "codemirror_mode": {
    "name": "ipython",
    "version": 3
   },
   "file_extension": ".py",
   "mimetype": "text/x-python",
   "name": "python",
   "nbconvert_exporter": "python",
   "pygments_lexer": "ipython3",
   "version": "3.7.6"
  }
 },
 "nbformat": 4,
 "nbformat_minor": 4
}
