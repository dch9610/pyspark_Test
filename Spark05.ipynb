{
 "cells": [
  {
   "cell_type": "code",
   "execution_count": 99,
   "metadata": {},
   "outputs": [],
   "source": [
    "from pyspark.sql import SparkSession\n",
    "import pandas as pd\n",
    "from graphframes import GraphFrame\n",
    "from pyspark.sql.functions import desc  \n",
    "from pyspark.sql.functions import col "
   ]
  },
  {
   "cell_type": "code",
   "execution_count": 2,
   "metadata": {},
   "outputs": [
    {
     "data": {
      "text/plain": [
       "'2.4.5'"
      ]
     },
     "execution_count": 2,
     "metadata": {},
     "output_type": "execute_result"
    }
   ],
   "source": [
    "from pyspark.sql import SparkSession\n",
    "import pandas as pd\n",
    "spark = SparkSession.builder.master(\"local[*]\") \\\n",
    "    .enableHiveSupport().appName(\"spark_app1\") \\\n",
    "    .config('spark.jars.packages', 'graphframes:graphframes:0.7.0-spark2.4-s_2.11')\\\n",
    "    .getOrCreate()\n",
    "\n",
    "spark.version   # 2.4.5"
   ]
  },
  {
   "cell_type": "code",
   "execution_count": 13,
   "metadata": {},
   "outputs": [
    {
     "name": "stdout",
     "output_type": "stream",
     "text": [
      "+---+------+---------+---+\n",
      "| id|  name|firstname|age|\n",
      "+---+------+---------+---+\n",
      "|  1|Carter|  Derrick| 50|\n",
      "|  2|   May|  Derrick| 26|\n",
      "|  3| Mills|     Jeff| 80|\n",
      "|  4|  Hood|   Robert| 65|\n",
      "|  5| Banks|     Mike| 93|\n",
      "| 98|  Berg|      Tim| 28|\n",
      "| 99|  Page|    Allan| 16|\n",
      "+---+------+---------+---+\n",
      "\n",
      "+---+---+-------+\n",
      "|src|dst|   type|\n",
      "+---+---+-------+\n",
      "|  1|  2| friend|\n",
      "|  2|  1| friend|\n",
      "|  3|  1| friend|\n",
      "|  1|  3| friend|\n",
      "|  2|  3|follows|\n",
      "|  3|  4| friend|\n",
      "|  4|  3| friend|\n",
      "|  5|  3| friend|\n",
      "|  3|  5| friend|\n",
      "|  4|  5|follows|\n",
      "| 98| 99| friend|\n",
      "| 99| 98| friend|\n",
      "+---+---+-------+\n",
      "\n"
     ]
    }
   ],
   "source": [
    "from graphframes import GraphFrame\n",
    "from pyspark.sql.functions import desc  \n",
    "v1 = spark.createDataFrame([('1', 'Carter', 'Derrick', 50), \n",
    "                                  ('2', 'May', 'Derrick', 26),\n",
    "                                 ('3', 'Mills', 'Jeff', 80),\n",
    "                                  ('4', 'Hood', 'Robert', 65),\n",
    "                                  ('5', 'Banks', 'Mike', 93),\n",
    "                                 ('98', 'Berg', 'Tim', 28),\n",
    "                                 ('99', 'Page', 'Allan', 16)],\n",
    "                                 ['id', 'name', 'firstname', 'age'])\n",
    "e1 = spark.createDataFrame([('1', '2', 'friend'), \n",
    "                               ('2', '1', 'friend'),\n",
    "                              ('3', '1', 'friend'),\n",
    "                              ('1', '3', 'friend'),\n",
    "                               ('2', '3', 'follows'),\n",
    "                               ('3', '4', 'friend'),\n",
    "                               ('4', '3', 'friend'),\n",
    "                               ('5', '3', 'friend'),\n",
    "                               ('3', '5', 'friend'),\n",
    "                               ('4', '5', 'follows'),\n",
    "                              ('98', '99', 'friend'),\n",
    "                              ('99', '98', 'friend')],\n",
    "                              ['id1', 'id2', 'type'])\n",
    "# 컬럼명 변경하기\n",
    "e1 = e1.withColumnRenamed(\"id1\", \"src\").withColumnRenamed(\"id2\", \"dst\")\n",
    "\n",
    "g = GraphFrame(v1, e1)\n",
    "g.vertices.show()\n",
    "g.edges.show()"
   ]
  },
  {
   "cell_type": "code",
   "execution_count": 7,
   "metadata": {},
   "outputs": [
    {
     "name": "stdout",
     "output_type": "stream",
     "text": [
      "+---+------+\n",
      "| id|degree|\n",
      "+---+------+\n",
      "|  3|     7|\n",
      "| 98|     2|\n",
      "| 99|     2|\n",
      "|  5|     3|\n",
      "|  1|     4|\n",
      "|  4|     3|\n",
      "|  2|     3|\n",
      "+---+------+\n",
      "\n"
     ]
    }
   ],
   "source": [
    "g.degrees.show()"
   ]
  },
  {
   "cell_type": "code",
   "execution_count": 8,
   "metadata": {
    "scrolled": true
   },
   "outputs": [
    {
     "name": "stdout",
     "output_type": "stream",
     "text": [
      "+---+--------+\n",
      "| id|inDegree|\n",
      "+---+--------+\n",
      "|  3|       4|\n",
      "| 98|       1|\n",
      "| 99|       1|\n",
      "|  5|       2|\n",
      "|  1|       2|\n",
      "|  4|       1|\n",
      "|  2|       1|\n",
      "+---+--------+\n",
      "\n"
     ]
    }
   ],
   "source": [
    "g.inDegrees.show()\n"
   ]
  },
  {
   "cell_type": "code",
   "execution_count": 9,
   "metadata": {},
   "outputs": [
    {
     "name": "stdout",
     "output_type": "stream",
     "text": [
      "+---+---------+\n",
      "| id|outDegree|\n",
      "+---+---------+\n",
      "|  3|        3|\n",
      "| 98|        1|\n",
      "| 99|        1|\n",
      "|  5|        1|\n",
      "|  1|        2|\n",
      "|  4|        2|\n",
      "|  2|        2|\n",
      "+---+---------+\n",
      "\n"
     ]
    }
   ],
   "source": [
    "# 출\n",
    "g.outDegrees.show()"
   ]
  },
  {
   "cell_type": "code",
   "execution_count": 10,
   "metadata": {},
   "outputs": [
    {
     "name": "stdout",
     "output_type": "stream",
     "text": [
      "+---+------+---------+---+\n",
      "| id|  name|firstname|age|\n",
      "+---+------+---------+---+\n",
      "|  1|Carter|  Derrick| 50|\n",
      "|  3| Mills|     Jeff| 80|\n",
      "|  4|  Hood|   Robert| 65|\n",
      "|  5| Banks|     Mike| 93|\n",
      "+---+------+---------+---+\n",
      "\n"
     ]
    }
   ],
   "source": [
    "# 정점부 조건 설정\n",
    "g.vertices.filter(\"age > 30\").show()"
   ]
  },
  {
   "cell_type": "code",
   "execution_count": 11,
   "metadata": {
    "scrolled": true
   },
   "outputs": [
    {
     "name": "stdout",
     "output_type": "stream",
     "text": [
      "+---+---+------+\n",
      "|src|dst|  type|\n",
      "+---+---+------+\n",
      "|  1|  2|friend|\n",
      "|  2|  1|friend|\n",
      "|  3|  1|friend|\n",
      "|  1|  3|friend|\n",
      "|  3|  4|friend|\n",
      "|  4|  3|friend|\n",
      "|  5|  3|friend|\n",
      "|  3|  5|friend|\n",
      "| 98| 99|friend|\n",
      "| 99| 98|friend|\n",
      "+---+---+------+\n",
      "\n"
     ]
    }
   ],
   "source": [
    "# 관계부 조건 설정\n",
    "g.edges.filter('type == \"friend\"').show()"
   ]
  },
  {
   "cell_type": "code",
   "execution_count": 14,
   "metadata": {
    "scrolled": true
   },
   "outputs": [
    {
     "name": "stdout",
     "output_type": "stream",
     "text": [
      "+---+--------+\n",
      "| id|inDegree|\n",
      "+---+--------+\n",
      "|  3|       4|\n",
      "|  1|       2|\n",
      "|  5|       2|\n",
      "+---+--------+\n",
      "\n"
     ]
    }
   ],
   "source": [
    "# inDegrees에서 조건을 정해서 출력\n",
    "g.inDegrees.filter(\"inDegree >= 2\").sort(\"inDegree\", ascending=False).show()"
   ]
  },
  {
   "cell_type": "code",
   "execution_count": 70,
   "metadata": {},
   "outputs": [
    {
     "name": "stdout",
     "output_type": "stream",
     "text": [
      "+------------------------+---------------+------------------------+---------------+------------------------+---------------+\n",
      "|a                       |e              |b                       |e2             |c                       |e3             |\n",
      "+------------------------+---------------+------------------------+---------------+------------------------+---------------+\n",
      "|[3, Mills, Jeff, 80]    |[3, 1, friend] |[1, Carter, Derrick, 50]|[1, 2, friend] |[2, May, Derrick, 26]   |[2, 3, follows]|\n",
      "|[2, May, Derrick, 26]   |[2, 3, follows]|[3, Mills, Jeff, 80]    |[3, 1, friend] |[1, Carter, Derrick, 50]|[1, 2, friend] |\n",
      "|[3, Mills, Jeff, 80]    |[3, 4, friend] |[4, Hood, Robert, 65]   |[4, 5, follows]|[5, Banks, Mike, 93]    |[5, 3, friend] |\n",
      "|[1, Carter, Derrick, 50]|[1, 2, friend] |[2, May, Derrick, 26]   |[2, 3, follows]|[3, Mills, Jeff, 80]    |[3, 1, friend] |\n",
      "|[4, Hood, Robert, 65]   |[4, 5, follows]|[5, Banks, Mike, 93]    |[5, 3, friend] |[3, Mills, Jeff, 80]    |[3, 4, friend] |\n",
      "|[5, Banks, Mike, 93]    |[5, 3, friend] |[3, Mills, Jeff, 80]    |[3, 4, friend] |[4, Hood, Robert, 65]   |[4, 5, follows]|\n",
      "+------------------------+---------------+------------------------+---------------+------------------------+---------------+\n",
      "\n"
     ]
    }
   ],
   "source": [
    "# 서로 연결되어있는거 찾기 또는 경로를 지정해서 찾기\n",
    "g.find(\"(a)-[e]->(b); (b)-[e2]->(c); (c)-[e3]->(a)\").show(10,False)"
   ]
  },
  {
   "cell_type": "code",
   "execution_count": 24,
   "metadata": {
    "collapsed": true
   },
   "outputs": [
    {
     "name": "stdout",
     "output_type": "stream",
     "text": [
      "+------------------------+--------------+--------------------+--------------+---------------------+\n",
      "|from                    |e0            |v1                  |e1            |to                   |\n",
      "+------------------------+--------------+--------------------+--------------+---------------------+\n",
      "|[1, Carter, Derrick, 50]|[1, 3, friend]|[3, Mills, Jeff, 80]|[3, 4, friend]|[4, Hood, Robert, 65]|\n",
      "+------------------------+--------------+--------------------+--------------+---------------------+\n",
      "\n"
     ]
    }
   ],
   "source": [
    "# 최단 거리 찾기 BFS(너비우선)// DFS(깊이 우선)\n",
    "g.bfs(fromExpr=\"id='1'\", toExpr=\"id='4'\", maxPathLength=30).show(truncate=False)"
   ]
  },
  {
   "cell_type": "markdown",
   "metadata": {},
   "source": [
    "## Bike"
   ]
  },
  {
   "cell_type": "code",
   "execution_count": 123,
   "metadata": {
    "scrolled": true
   },
   "outputs": [
    {
     "data": {
      "text/plain": [
       "DataFrame[Trip ID: string, Duration: string, Start Date: string, Start Station: string, Start Terminal: string, End Date: string, End Station: string, End Terminal: string, Bike #: string, Subscriber Type: string, Zip Code: string]"
      ]
     },
     "execution_count": 123,
     "metadata": {},
     "output_type": "execute_result"
    }
   ],
   "source": [
    "# 데이터 불러오기\n",
    "bikeStations = spark.read.option(\"header\",\"true\").csv(\"./bike-data/201508_station_data.csv\")\n",
    "tmp = spark.read.option(\"header\",\"true\").csv(\"./bike-data/201508_trip_data.csv\")\n",
    "\n",
    "# 데이터 프레임 구조인 경우 limit\n",
    "tripData=tmp.limit(50)\n",
    "tripData"
   ]
  },
  {
   "cell_type": "code",
   "execution_count": 124,
   "metadata": {
    "collapsed": true
   },
   "outputs": [
    {
     "data": {
      "text/html": [
       "<div style=\"width:100%;\"><div style=\"position:relative;width:100%;height:0;padding-bottom:60%;\"><span style=\"color:#565656\">Make this Notebook Trusted to load map: File -> Trust Notebook</span><iframe src=\"about:blank\" style=\"position:absolute;width:100%;height:100%;left:0;top:0;border:none !important;\" data-html=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 onload=\"this.contentDocument.open();this.contentDocument.write(atob(this.getAttribute('data-html')));this.contentDocument.close();\" allowfullscreen webkitallowfullscreen mozallowfullscreen></iframe></div></div>"
      ],
      "text/plain": [
       "<folium.folium.Map at 0x7f8046539350>"
      ]
     },
     "execution_count": 124,
     "metadata": {},
     "output_type": "execute_result"
    }
   ],
   "source": [
    "# 맵으로 구현\n",
    "import matplotlib.pyplot as plt\n",
    "import matplotlib\n",
    "import folium\n",
    "\n",
    "data = bikeStations.select(\"lat\", \"long\",\"name\").collect()\n",
    "# 지도 시작시 위치, zoom_size9 지도확대 비율 ~18까지 있음.\n",
    "map_osm = folium.Map(location=[37.329732,  -121.901782], zoom_size=14)\n",
    "\n",
    "for i in data: #반복문을 회전하면서 지도위에 마커를 표시함.\n",
    "    folium.Marker([float(i['lat']), float(i['long'])], popup=i['name']).add_to(map_osm)\n",
    "    \n",
    "map_osm\n",
    "\n",
    "#map_osm.save('bike_map.html')"
   ]
  },
  {
   "cell_type": "code",
   "execution_count": 119,
   "metadata": {
    "scrolled": true
   },
   "outputs": [
    {
     "ename": "AttributeError",
     "evalue": "'DataFrame' object has no attribute 'withColumnRenamed'",
     "output_type": "error",
     "traceback": [
      "\u001b[0;31m---------------------------------------------------------------------------\u001b[0m",
      "\u001b[0;31mAttributeError\u001b[0m                            Traceback (most recent call last)",
      "\u001b[0;32m<ipython-input-119-9126958d1ccd>\u001b[0m in \u001b[0;36m<module>\u001b[0;34m\u001b[0m\n\u001b[1;32m      1\u001b[0m \u001b[0;31m# 컬럼명 변경하기\u001b[0m\u001b[0;34m\u001b[0m\u001b[0;34m\u001b[0m\u001b[0;34m\u001b[0m\u001b[0m\n\u001b[0;32m----> 2\u001b[0;31m \u001b[0mstationVertices\u001b[0m \u001b[0;34m=\u001b[0m \u001b[0mbikeStations\u001b[0m\u001b[0;34m.\u001b[0m\u001b[0mwithColumnRenamed\u001b[0m\u001b[0;34m(\u001b[0m\u001b[0;34m\"name\"\u001b[0m\u001b[0;34m,\u001b[0m \u001b[0;34m\"id\"\u001b[0m\u001b[0;34m)\u001b[0m\u001b[0;34m\u001b[0m\u001b[0;34m\u001b[0m\u001b[0m\n\u001b[0m\u001b[1;32m      3\u001b[0m \u001b[0;34m\u001b[0m\u001b[0m\n\u001b[1;32m      4\u001b[0m \u001b[0mtripEdges\u001b[0m \u001b[0;34m=\u001b[0m \u001b[0mtripData\u001b[0m\u001b[0;34m.\u001b[0m\u001b[0mwithColumnRenamed\u001b[0m\u001b[0;34m(\u001b[0m\u001b[0;34m\"Start Station\"\u001b[0m\u001b[0;34m,\u001b[0m \u001b[0;34m\"src\"\u001b[0m\u001b[0;34m)\u001b[0m\u001b[0;31m\\\u001b[0m\u001b[0;34m\u001b[0m\u001b[0;34m\u001b[0m\u001b[0m\n\u001b[1;32m      5\u001b[0m                 \u001b[0;34m.\u001b[0m\u001b[0mwithColumnRenamed\u001b[0m\u001b[0;34m(\u001b[0m\u001b[0;34m\"End Station\"\u001b[0m\u001b[0;34m,\u001b[0m \u001b[0;34m\"dst\"\u001b[0m\u001b[0;34m)\u001b[0m\u001b[0;34m\u001b[0m\u001b[0;34m\u001b[0m\u001b[0m\n",
      "\u001b[0;32m~/anaconda3/lib/python3.7/site-packages/pandas/core/generic.py\u001b[0m in \u001b[0;36m__getattr__\u001b[0;34m(self, name)\u001b[0m\n\u001b[1;32m   5272\u001b[0m             \u001b[0;32mif\u001b[0m \u001b[0mself\u001b[0m\u001b[0;34m.\u001b[0m\u001b[0m_info_axis\u001b[0m\u001b[0;34m.\u001b[0m\u001b[0m_can_hold_identifiers_and_holds_name\u001b[0m\u001b[0;34m(\u001b[0m\u001b[0mname\u001b[0m\u001b[0;34m)\u001b[0m\u001b[0;34m:\u001b[0m\u001b[0;34m\u001b[0m\u001b[0;34m\u001b[0m\u001b[0m\n\u001b[1;32m   5273\u001b[0m                 \u001b[0;32mreturn\u001b[0m \u001b[0mself\u001b[0m\u001b[0;34m[\u001b[0m\u001b[0mname\u001b[0m\u001b[0;34m]\u001b[0m\u001b[0;34m\u001b[0m\u001b[0;34m\u001b[0m\u001b[0m\n\u001b[0;32m-> 5274\u001b[0;31m             \u001b[0;32mreturn\u001b[0m \u001b[0mobject\u001b[0m\u001b[0;34m.\u001b[0m\u001b[0m__getattribute__\u001b[0m\u001b[0;34m(\u001b[0m\u001b[0mself\u001b[0m\u001b[0;34m,\u001b[0m \u001b[0mname\u001b[0m\u001b[0;34m)\u001b[0m\u001b[0;34m\u001b[0m\u001b[0;34m\u001b[0m\u001b[0m\n\u001b[0m\u001b[1;32m   5275\u001b[0m \u001b[0;34m\u001b[0m\u001b[0m\n\u001b[1;32m   5276\u001b[0m     \u001b[0;32mdef\u001b[0m \u001b[0m__setattr__\u001b[0m\u001b[0;34m(\u001b[0m\u001b[0mself\u001b[0m\u001b[0;34m,\u001b[0m \u001b[0mname\u001b[0m\u001b[0;34m:\u001b[0m \u001b[0mstr\u001b[0m\u001b[0;34m,\u001b[0m \u001b[0mvalue\u001b[0m\u001b[0;34m)\u001b[0m \u001b[0;34m->\u001b[0m \u001b[0;32mNone\u001b[0m\u001b[0;34m:\u001b[0m\u001b[0;34m\u001b[0m\u001b[0;34m\u001b[0m\u001b[0m\n",
      "\u001b[0;31mAttributeError\u001b[0m: 'DataFrame' object has no attribute 'withColumnRenamed'"
     ]
    }
   ],
   "source": [
    "# 컬럼명 변경하기\n",
    "stationVertices = bikeStations.withColumnRenamed(\"name\", \"id\")\n",
    "\n",
    "tripEdges = tripData.withColumnRenamed(\"Start Station\", \"src\")\\\n",
    "                .withColumnRenamed(\"End Station\", \"dst\")\n",
    "\n",
    "stationGraph = GraphFrame(stationVertices, tripEdges)\n",
    "\n",
    "stationGraph.vertices.show()\n",
    "stationGraph.edges.show()"
   ]
  },
  {
   "cell_type": "code",
   "execution_count": 93,
   "metadata": {},
   "outputs": [
    {
     "name": "stdout",
     "output_type": "stream",
     "text": [
      "+--------------------+--------------------+-----+\n",
      "|                 src|                 dst|count|\n",
      "+--------------------+--------------------+-----+\n",
      "|       5th at Howard|San Francisco Cal...|    3|\n",
      "|   Market at Sansome|Broadway St at Ba...|    2|\n",
      "|Embarcadero at Fo...|Embarcadero at Sa...|    2|\n",
      "|San Francisco Cal...|     Townsend at 7th|    2|\n",
      "|Harry Bridges Pla...|San Francisco Cal...|    1|\n",
      "|  San Jose City Hall| San Salvador at 1st|    1|\n",
      "|San Antonio Shopp...|Mountain View Cit...|    1|\n",
      "|Yerba Buena Cente...|San Francisco Cal...|    1|\n",
      "|Embarcadero at Sa...|   Steuart at Market|    1|\n",
      "|      Post at Kearny|   2nd at South Park|    1|\n",
      "+--------------------+--------------------+-----+\n",
      "only showing top 10 rows\n",
      "\n"
     ]
    }
   ],
   "source": [
    "# 시작과 끝이 가장 많은 것 10개 구하기\n",
    "stationGraph.edges.groupBy(\"src\", \"dst\").count().orderBy(desc(\"count\")).show(10)"
   ]
  },
  {
   "cell_type": "markdown",
   "metadata": {},
   "source": [
    "### 가장 많이 출발하는 지점을 찾으시오."
   ]
  },
  {
   "cell_type": "code",
   "execution_count": 94,
   "metadata": {
    "collapsed": true
   },
   "outputs": [
    {
     "name": "stdout",
     "output_type": "stream",
     "text": [
      "+--------------------+---------+\n",
      "|                  id|outDegree|\n",
      "+--------------------+---------+\n",
      "|   Market at Sansome|        4|\n",
      "|San Francisco Cal...|        3|\n",
      "|Embarcadero at Sa...|        3|\n",
      "|       5th at Howard|        3|\n",
      "|Yerba Buena Cente...|        3|\n",
      "|San Francisco Cal...|        3|\n",
      "|     Spear at Folsom|        3|\n",
      "|Temporary Transba...|        2|\n",
      "|     2nd at Townsend|        2|\n",
      "|       Howard at 2nd|        2|\n",
      "|      Post at Kearny|        2|\n",
      "|      Market at 10th|        2|\n",
      "|     Townsend at 7th|        2|\n",
      "|Harry Bridges Pla...|        2|\n",
      "|Embarcadero at Fo...|        2|\n",
      "|San Antonio Shopp...|        1|\n",
      "|  San Jose City Hall|        1|\n",
      "|     Beale at Market|        1|\n",
      "|University and Em...|        1|\n",
      "|       Market at 4th|        1|\n",
      "+--------------------+---------+\n",
      "only showing top 20 rows\n",
      "\n"
     ]
    }
   ],
   "source": [
    "stationGraph.outDegrees.sort('outDegree', ascending = False).show()"
   ]
  },
  {
   "cell_type": "markdown",
   "metadata": {},
   "source": [
    "### 가장 많이 종료하는 지점을 찾으시오."
   ]
  },
  {
   "cell_type": "code",
   "execution_count": 95,
   "metadata": {
    "collapsed": true
   },
   "outputs": [
    {
     "name": "stdout",
     "output_type": "stream",
     "text": [
      "+--------------------+--------+\n",
      "|                  id|inDegree|\n",
      "+--------------------+--------+\n",
      "|San Francisco Cal...|       6|\n",
      "|San Francisco Cal...|       6|\n",
      "|Embarcadero at Sa...|       3|\n",
      "|Harry Bridges Pla...|       3|\n",
      "|Broadway St at Ba...|       3|\n",
      "|     Townsend at 7th|       3|\n",
      "|     Spear at Folsom|       2|\n",
      "|   2nd at South Park|       2|\n",
      "|   Steuart at Market|       2|\n",
      "|Embarcadero at Br...|       2|\n",
      "|     2nd at Townsend|       2|\n",
      "|   Market at Sansome|       2|\n",
      "|Grant Avenue at C...|       2|\n",
      "|Mountain View Cit...|       1|\n",
      "|Temporary Transba...|       1|\n",
      "| San Salvador at 1st|       1|\n",
      "|South Van Ness at...|       1|\n",
      "|Castro Street and...|       1|\n",
      "|Cowper at University|       1|\n",
      "|       5th at Howard|       1|\n",
      "+--------------------+--------+\n",
      "only showing top 20 rows\n",
      "\n"
     ]
    }
   ],
   "source": [
    "stationGraph.inDegrees.sort('inDegree', ascending = False).show()"
   ]
  },
  {
   "cell_type": "markdown",
   "metadata": {},
   "source": [
    "### 'Townsend at 7th' 시작해서 'Spear at Folsom'로 이동하는 경로를 탐색(bfs)하시오."
   ]
  },
  {
   "cell_type": "code",
   "execution_count": 88,
   "metadata": {
    "scrolled": true
   },
   "outputs": [
    {
     "name": "stdout",
     "output_type": "stream",
     "text": [
      "+---------------------------------------------------------------------------+------------------------------------------------------------------------------------------------------------------+---------------------------------------------------------------------------+\n",
      "|from                                                                       |e0                                                                                                                |to                                                                         |\n",
      "+---------------------------------------------------------------------------+------------------------------------------------------------------------------------------------------------------+---------------------------------------------------------------------------+\n",
      "|[65, Townsend at 7th, 37.771058, -122.402717, 15, San Francisco, 8/22/2013]|[913371, 663, 8/31/2015 20:10, Townsend at 7th, 65, 8/31/2015 20:21, Spear at Folsom, 49, 405, Subscriber, 94103] |[49, Spear at Folsom, 37.790302, -122.390637, 19, San Francisco, 8/20/2013]|\n",
      "|[65, Townsend at 7th, 37.771058, -122.402717, 15, San Francisco, 8/22/2013]|[913265, 658, 8/31/2015 19:04, Townsend at 7th, 65, 8/31/2015 19:15, Spear at Folsom, 49, 606, Subscriber, 94608] |[49, Spear at Folsom, 37.790302, -122.390637, 19, San Francisco, 8/20/2013]|\n",
      "|[65, Townsend at 7th, 37.771058, -122.402717, 15, San Francisco, 8/22/2013]|[911919, 722, 8/31/2015 8:18, Townsend at 7th, 65, 8/31/2015 8:30, Spear at Folsom, 49, 514, Subscriber, 94103]   |[49, Spear at Folsom, 37.790302, -122.390637, 19, San Francisco, 8/20/2013]|\n",
      "|[65, Townsend at 7th, 37.771058, -122.402717, 15, San Francisco, 8/22/2013]|[910777, 704, 8/29/2015 10:02, Townsend at 7th, 65, 8/29/2015 10:13, Spear at Folsom, 49, 677, Subscriber, 94107] |[49, Spear at Folsom, 37.790302, -122.390637, 19, San Francisco, 8/20/2013]|\n",
      "|[65, Townsend at 7th, 37.771058, -122.402717, 15, San Francisco, 8/22/2013]|[908994, 1115, 8/27/2015 19:48, Townsend at 7th, 65, 8/27/2015 20:06, Spear at Folsom, 49, 416, Subscriber, 94105]|[49, Spear at Folsom, 37.790302, -122.390637, 19, San Francisco, 8/20/2013]|\n",
      "|[65, Townsend at 7th, 37.771058, -122.402717, 15, San Francisco, 8/22/2013]|[906912, 892, 8/26/2015 17:58, Townsend at 7th, 65, 8/26/2015 18:12, Spear at Folsom, 49, 283, Subscriber, 94127] |[49, Spear at Folsom, 37.790302, -122.390637, 19, San Francisco, 8/20/2013]|\n",
      "|[65, Townsend at 7th, 37.771058, -122.402717, 15, San Francisco, 8/22/2013]|[905201, 980, 8/25/2015 19:17, Townsend at 7th, 65, 8/25/2015 19:33, Spear at Folsom, 49, 327, Subscriber, 94103] |[49, Spear at Folsom, 37.790302, -122.390637, 19, San Francisco, 8/20/2013]|\n",
      "|[65, Townsend at 7th, 37.771058, -122.402717, 15, San Francisco, 8/22/2013]|[904010, 969, 8/25/2015 9:07, Townsend at 7th, 65, 8/25/2015 9:23, Spear at Folsom, 49, 534, Subscriber, 94131]   |[49, Spear at Folsom, 37.790302, -122.390637, 19, San Francisco, 8/20/2013]|\n",
      "|[65, Townsend at 7th, 37.771058, -122.402717, 15, San Francisco, 8/22/2013]|[903375, 850, 8/24/2015 19:21, Townsend at 7th, 65, 8/24/2015 19:36, Spear at Folsom, 49, 442, Subscriber, 94105] |[49, Spear at Folsom, 37.790302, -122.390637, 19, San Francisco, 8/20/2013]|\n",
      "|[65, Townsend at 7th, 37.771058, -122.402717, 15, San Francisco, 8/22/2013]|[899944, 910, 8/21/2015 9:59, Townsend at 7th, 65, 8/21/2015 10:14, Spear at Folsom, 49, 371, Customer, 94107]    |[49, Spear at Folsom, 37.790302, -122.390637, 19, San Francisco, 8/20/2013]|\n",
      "+---------------------------------------------------------------------------+------------------------------------------------------------------------------------------------------------------+---------------------------------------------------------------------------+\n",
      "only showing top 10 rows\n",
      "\n"
     ]
    }
   ],
   "source": [
    "Town7_Spear=stationGraph.bfs(fromExpr=\"id = 'Townsend at 7th'\",toExpr=\"id = 'Spear at Folsom'\", maxPathLength=2).show(10, False)"
   ]
  },
  {
   "cell_type": "markdown",
   "metadata": {},
   "source": [
    "### a -> b -> c -> a로 이동하는 코스를 구하시오."
   ]
  },
  {
   "cell_type": "code",
   "execution_count": 97,
   "metadata": {},
   "outputs": [
    {
     "name": "stdout",
     "output_type": "stream",
     "text": [
      "+--------------------+--------------------+--------------------+--------------------+--------------------+--------------------+\n",
      "|                   a|                  e1|                   b|                  e2|                   c|                  e3|\n",
      "+--------------------+--------------------+--------------------+--------------------+--------------------+--------------------+\n",
      "|[60, Embarcadero ...|[913443, 691, 8/3...|[77, Market at Sa...|[913403, 497, 8/3...|[61, 2nd at Towns...|[913383, 1435, 8/...|\n",
      "|[69, San Francisc...|[913434, 283, 8/3...|[65, Townsend at ...|[913371, 663, 8/3...|[49, Spear at Fol...|[913432, 703, 8/3...|\n",
      "|[49, Spear at Fol...|[913432, 703, 8/3...|[69, San Francisc...|[913404, 273, 8/3...|[65, Townsend at ...|[913371, 663, 8/3...|\n",
      "|[49, Spear at Fol...|[913432, 703, 8/3...|[69, San Francisc...|[913434, 283, 8/3...|[65, Townsend at ...|[913371, 663, 8/3...|\n",
      "|[69, San Francisc...|[913404, 273, 8/3...|[65, Townsend at ...|[913371, 663, 8/3...|[49, Spear at Fol...|[913432, 703, 8/3...|\n",
      "|[77, Market at Sa...|[913403, 497, 8/3...|[61, 2nd at Towns...|[913383, 1435, 8/...|[60, Embarcadero ...|[913443, 691, 8/3...|\n",
      "|[61, 2nd at Towns...|[913383, 1435, 8/...|[60, Embarcadero ...|[913443, 691, 8/3...|[77, Market at Sa...|[913403, 497, 8/3...|\n",
      "|[65, Townsend at ...|[913371, 663, 8/3...|[49, Spear at Fol...|[913432, 703, 8/3...|[69, San Francisc...|[913404, 273, 8/3...|\n",
      "|[65, Townsend at ...|[913371, 663, 8/3...|[49, Spear at Fol...|[913432, 703, 8/3...|[69, San Francisc...|[913434, 283, 8/3...|\n",
      "+--------------------+--------------------+--------------------+--------------------+--------------------+--------------------+\n",
      "\n"
     ]
    }
   ],
   "source": [
    "stationGraph.find(\"(a)-[e1]->(b); (b)-[e2]->(c); (c)-[e3]->(a)\").show()"
   ]
  }
 ],
 "metadata": {
  "kernelspec": {
   "display_name": "Python 3",
   "language": "python",
   "name": "python3"
  },
  "language_info": {
   "codemirror_mode": {
    "name": "ipython",
    "version": 3
   },
   "file_extension": ".py",
   "mimetype": "text/x-python",
   "name": "python",
   "nbconvert_exporter": "python",
   "pygments_lexer": "ipython3",
   "version": "3.7.6"
  }
 },
 "nbformat": 4,
 "nbformat_minor": 4
}
