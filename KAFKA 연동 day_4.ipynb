{
 "cells": [
  {
   "cell_type": "code",
   "execution_count": null,
   "metadata": {},
   "outputs": [],
   "source": [
    "from pyspark.sql import SparkSession\n",
    "import pandas as pd\n",
    "\n",
    "spark = SparkSession.builder.master(\"local[*]\") \\\n",
    "    .enableHiveSupport().appName(\"ex01_1\") \\\n",
    "    .getOrCreate()\n",
    "\n",
    "spark.version   # 2.4.5"
   ]
  },
  {
   "cell_type": "code",
   "execution_count": null,
   "metadata": {},
   "outputs": [],
   "source": [
    "from pyspark.sql import SparkSession\n",
    "import pandas as pd\n",
    "\n",
    "spark = SparkSession.builder.master(\"local[*]\") \\\n",
    "    .appName(\"mg01\") \\\n",
    "    .config('spark.jars.packages','org.apache.spark:spark-sql-kafka-0-10_2.11:2.4.5' ) \\\n",
    "    .getOrCreate()\n",
    "\n",
    "df = spark.readStream.format(\"kafka\") \\\n",
    "    .option(\"kafka.bootstrap.servers\",\"127.0.0.1:9092\") \\\n",
    "    .option(\"subscribe\", \"testTopic1\") \\\n",
    "    .option(\"startingOffsets\", \"latest\") \\\n",
    "    .load()\n",
    "\n",
    "#df의 값을 변경해서 df1에 보관\n",
    "df1 = df.selectExpr(\"CAST (key AS STRING)\", \"CAST(value AS STRING)\")\n",
    "\n",
    "#df1의 실시간 값을 console에 출력함\n",
    "df1.writeStream.outputMode(\"append\") \\\n",
    "    .format(\"console\") \\\n",
    "    .option(\"truncate\", \"false\") \\\n",
    "    .trigger(processingTime=\"3 seconds\") \\\n",
    "    .start() \\\n",
    "    .awaitTermination()\n"
   ]
  },
  {
   "cell_type": "code",
   "execution_count": null,
   "metadata": {},
   "outputs": [],
   "source": [
    "pip install pymongo"
   ]
  },
  {
   "cell_type": "code",
   "execution_count": null,
   "metadata": {},
   "outputs": [],
   "source": [
    "from pyspark.sql import SparkSession\n",
    "import pandas as pd\n",
    "from pyspark.sql.functions import sum, count, avg, expr, split\n",
    "import pymongo # pip install pymongo\n",
    "\n",
    "# 파이썬 전용\n",
    "# conn = pymongo.MongoClient('192.168.99.100',32888)\n",
    "# db = conn.get_database(\"db1\")\n",
    "# tb = db.get_collection(\"t07\") #collection 생성\n",
    "\n",
    "spark = SparkSession.builder.master(\"local[*]\") \\\n",
    "    .appName(\"mg01\") \\\n",
    "    .config('spark.jars.packages','org.apache.spark:spark-sql-kafka-0-10_2.11:2.4.5' ) \\\n",
    "    .config(\"spark.mongodb.output.uri\", \"mongodb://192.168.99.100:32888/db1.t07\") \\\n",
    "    .config('spark.jars.packages', 'org.mongodb.spark:mongo-spark-connector_2.11:2.4.1') \\\n",
    "    .getOrCreate()\n",
    "\n",
    "df = spark.readStream.format(\"kafka\") \\\n",
    "    .option(\"kafka.bootstrap.servers\",\"127.0.0.1:9092\") \\\n",
    "    .option(\"subscribe\", \"testTopic1\") \\\n",
    "    .option(\"startingOffsets\", \"latest\") \\\n",
    "    .load()\n",
    "\n",
    "#df의 값을 변경해서 df1에 보관\n",
    "df1 = df.selectExpr(\"CAST (key AS STRING)\", \"CAST(value AS STRING)\")\n",
    "\n",
    "def process_row(df_tmp, epoch_id):\n",
    "    df2 = df_tmp.select(\"value\")\n",
    "    split_col = split(df2['value'], ',')\n",
    "    \n",
    "    df3 = df2.withColumn(\"num0\", split_col[0])\n",
    "    df3 = df3.withColumn(\"num1\", split_col[1])\n",
    "    df3 = df3.withColumn(\"num2\", split_col[2])\n",
    "    df3 = df3.withColumn(\"num3\", split_col[3])\n",
    "    df3.write.format(\"com.mongodb.spark.sql.DefaultSource\").mode(\"append\").save(); # 실시간으로 데이터 저장\n",
    "    df3.show()\n",
    "    \n",
    "\n",
    "df1.writeStream.foreachBatch(process_row).start().awaitTermination()\n",
    "\n"
   ]
  }
 ],
 "metadata": {
  "kernelspec": {
   "display_name": "Python 3",
   "language": "python",
   "name": "python3"
  },
  "language_info": {
   "codemirror_mode": {
    "name": "ipython",
    "version": 3
   },
   "file_extension": ".py",
   "mimetype": "text/x-python",
   "name": "python",
   "nbconvert_exporter": "python",
   "pygments_lexer": "ipython3",
   "version": "3.7.6"
  }
 },
 "nbformat": 4,
 "nbformat_minor": 4
}
