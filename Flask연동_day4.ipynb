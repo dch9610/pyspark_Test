{
 "cells": [
  {
   "cell_type": "code",
   "execution_count": null,
   "metadata": {},
   "outputs": [],
   "source": [
    "pip install pykafka"
   ]
  },
  {
   "cell_type": "code",
   "execution_count": null,
   "metadata": {},
   "outputs": [],
   "source": [
    "from pykafka import KafkaClient\n",
    "from werkzeug.wrappers import Request, Response\n",
    "from flask import Flask, render_template,redirect, request, session\n",
    "\n",
    "app = Flask(__name__)\n",
    "\n",
    "#kafka 접속 서버주소: 포트번호, 토픽\n",
    "client = KafkaClient(hosts='127.0.0.1:9092')\n",
    "topic = client.topics['testTopic1']\n",
    "producer = topic.get_sync_producer()\n",
    "\n",
    "@app.route('/')\n",
    "def index():\n",
    "    return 'Hello Flask'\n",
    "\n",
    "\n",
    "@app.route('/info')\n",
    "def info():\n",
    "    return 'Info <hr />'\n",
    "\n",
    "@app.route('/join')\n",
    "def join():\n",
    "    return render_template(\"join.html\")\n",
    "\n",
    "@app.route('/join', methods=['POST'])\n",
    "def login_post():\n",
    "    a=request.form['id']\n",
    "    b=request.form['name']\n",
    "    c=request.form['age']\n",
    "    d=request.form['tel1']\n",
    "    e=request.form['tel2']\n",
    "    f=request.form['tel3']\n",
    "    \n",
    "    txt = a +\",\"+ b +\",\"+ c +\",\"+ (d +\"-\"+ e +\"-\"+ f)\n",
    "    producer.produce(txt.encode())\n",
    "    \n",
    "    #kafka로 전송하기 -> pyspark -> mongodb\n",
    "    return redirect(\"/join\")\n",
    "    \n",
    "if __name__ == '__main__':\n",
    "    from werkzeug.serving import run_simple\n",
    "    run_simple('0.0.0.0', 5000, app)\n"
   ]
  }
 ],
 "metadata": {
  "kernelspec": {
   "display_name": "Python 3",
   "language": "python",
   "name": "python3"
  },
  "language_info": {
   "codemirror_mode": {
    "name": "ipython",
    "version": 3
   },
   "file_extension": ".py",
   "mimetype": "text/x-python",
   "name": "python",
   "nbconvert_exporter": "python",
   "pygments_lexer": "ipython3",
   "version": "3.7.6"
  }
 },
 "nbformat": 4,
 "nbformat_minor": 4
}
